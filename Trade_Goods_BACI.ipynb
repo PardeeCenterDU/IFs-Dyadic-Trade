{
 "cells": [
  {
   "cell_type": "markdown",
   "metadata": {},
   "source": [
    "# Data Collection\n",
    "Both data sources need subscriptions, no fees needed tho\n",
    "- Trade data come from BACI, a modified version of UNCOMTRADE data\n",
    "    - BACI does not provide service trade, only UNCOMTRADE does\n",
    "- Tariff data come from WITS TRAIN, use _Tariff and Trade Analysis_ under the _Advanced Query_ tab to get Effective Applied Tariff data\n",
    "    - https://wits.worldbank.org/wits/wits/witshelp/content/data_retrieval/p/intro/c2.types_of_tariffs.htm"
   ]
  },
  {
   "cell_type": "code",
   "execution_count": 2,
   "metadata": {},
   "outputs": [],
   "source": [
    "import pandas as pd \n",
    "import numpy as np\n",
    "import os\n",
    "import re\n",
    "import copy\n",
    "import time\n",
    "import csv"
   ]
  },
  {
   "cell_type": "markdown",
   "metadata": {},
   "source": [
    "# BACI\n",
    "### Country Concordance\n",
    "- Trade data of ‘Asia, not elsewhere specified’ (iso 490), is a good proxy for trade of Taiwan. In theory trade data for territories belonging to Asia, but not specified by country, could end up in this category, but in practice, only trade of Taiwan is included under this code, except for a couple of reporters. Use 490 as a proxy.\n",
    "   \n",
    "    \n",
    "-  <font color='red'> Note that starting in the 2024Jan release, BACI adopted country spellings from UNComtrade which marks the end year of those dissovled countries or unions that are not used for reporting\n",
    "    - 58 Belgium-Luxembourg (...1998); Belgium and Luxembourg are aggregated in BACI, because some countries do not distinguish between them in their declarations. The BACI procedure reconciles trade declaration of importers and exporters, so we have to aggregate the two countries in order to use all the trade declarations. Use their GDP to disaggrate.\n",
    "    - 711 Southern African Customs Union (...1999); In BACI, we aggregate SACU countries in order to make the harmonization of imports and exports declarations. Indeed, some countries do not report trade with each SACU country individually, but with SACU as a whole. It means that Botswana, Lesotho, Namibia, South Africa and Eswatini (Swaziland) are recorded as SACU (code 711). Use each country's GDP to disaggrate.\n",
    "\n",
    "    \n",
    "- Trade values for some countries include more territories\n",
    "    - USA, Puerto Rico and US Virgin Islands\n",
    "        - starting in 2024 version, BACI just says USA; It's trade is facilitated by US customs system.\n",
    "    - Switzerland, Liechtenstein\n",
    "    - France, Monaco \n",
    "        - starting in 2024 version, BACI just says France;\n",
    "    - As always, IFs do not put Macao under Mainland, China"
   ]
  },
  {
   "cell_type": "code",
   "execution_count": 3,
   "metadata": {},
   "outputs": [],
   "source": [
    "### get a set of all product codes as well as country codes in BACI\n",
    "h0_baci = set()\n",
    "c_baci = set()\n",
    "baci_list = os.listdir(\"data/BACI_HS92_V202401b/\")\n",
    "years = [str(y) for y in range(1995,2023)]\n",
    "for y in years:\n",
    "    dt = pd.read_csv(f\"data/BACI_HS92_V202401b/BACI_HS92_Y{y}_V202401b.csv\", encoding = \"latin-1\")\n",
    "    h0_baci = h0_baci | set(dt.k)\n",
    "    c_baci = c_baci | set(dt.i) | set(dt.j)\n",
    "    #dt_sample = dt.iloc[:1000,].copy()\n",
    "del dt"
   ]
  },
  {
   "cell_type": "code",
   "execution_count": 6,
   "metadata": {},
   "outputs": [],
   "source": [
    "### concordance for country names\n",
    "baci_country = pd.read_csv(\"data/BACI_HS92_V202401b/country_codes_V202401b.csv\", encoding = \"latin-1\")\n",
    "ifs_country = pd.read_excel(\"concordance/ccode_Comtrade_BACI_WITS_20241113.xlsx\")\n",
    "ifs_country = ifs_country[[\"BACI\",\"Country\"]].dropna()\n",
    "# for c in ifs_country.BACI:\n",
    "#     if c not in baci_country.country_name.unique():\n",
    "#         print(c)\n",
    "baci_ifs = dict(zip(ifs_country.BACI, ifs_country.Country))\n",
    "baci_code_to_name = dict(zip(baci_country.country_code, baci_country.country_name))\n",
    "# baci_country[\"Country_IFs\"] = baci_country[\"country_name_full\"].map(baci_ifs)\n",
    "# baci_ifs = baci_country[[\"country_code\", \"Country_IFs\"]].dropna()\n",
    "# baci_ifs =  dict(zip(baci_ifs.country_code, baci_ifs.Country_IFs))"
   ]
  },
  {
   "cell_type": "markdown",
   "metadata": {},
   "source": [
    "### Product Code\n",
    "- Code sequence, 1988/92 H0, 1996 H1, 2002 H2, 2007 H3, 2012 H4, 2017 H5, 2022 H6...\n",
    "\n",
    "- HS1992(HS0) was used in the BACI \n",
    "    - HS codes in actual data are read in as integer (unless there are commodities '9999AA'), so are the HS codes in the concordance table\n",
    "    - HS codes read from the BACI product code book are text due to '9999AA'\n",
    "    - Verify that we don't miss any commodity\n",
    "    - In the file of BACI HS92(HS0) Code, it included codes from other HS versions! However, the actual data might not contain any code outside of H0 version\n",
    "\n",
    "- GTAP 9 & GTAP 10 have different sectors, while GTAP 10 & 11 are the same\n"
   ]
  },
  {
   "cell_type": "code",
   "execution_count": 7,
   "metadata": {},
   "outputs": [],
   "source": [
    "# mapping from hs combined to h0 to GTAP to IFs\n",
    "h0_gtap = pd.read_csv(\"concordance/hs92gtap.csv\", encoding=\"latin-1\")\n",
    "h0_gtap = h0_gtap[[\" Product Code\", \"GTAP Product Code\"]]\n",
    "h0_gtap.columns = [\"H0\", \"GTAP\"]\n",
    "h0_gtap = dict(zip(h0_gtap.H0, h0_gtap.GTAP))\n",
    "gtap_ifs = pd.read_excel(\"concordance/GTAP 9_10_11 to IFs.xlsx\")\n",
    "gtap_ifs = gtap_ifs[[\"10number\", \"GTAP10toIFs\"]]\n",
    "gtap_ifs.columns = [\"GTAP\", \"IFs\"]\n",
    "gtap_ifs = dict(zip(gtap_ifs.GTAP, gtap_ifs.IFs))\n",
    "# Ensure there is no unidentified commodities\n",
    "for h in h0_baci:\n",
    "    assert h in h0_gtap\n",
    "baci_prod =pd.read_csv(\"data/BACI_HS92_V202401b/product_codes_HS92_V202401b.csv\",encoding=\"latin1\")\n",
    "baci_prod = set(baci_prod.code)\n",
    "baci_prod_int = {int(c) for c in baci_prod if c!='9999AA'}\n",
    "for c in h0_baci:\n",
    "    assert c in baci_prod_int"
   ]
  },
  {
   "cell_type": "markdown",
   "metadata": {},
   "source": [
    "### Unit Conversion\n",
    "Data are in Current USD, convert to 2011USD or 2017USD\n",
    "- Use GDP deflator from https://data.worldbank.org/indicator/NY.GDP.DEFL.ZS, note that this is not the right way to calcuate a \"constant price\" value\n",
    "- In the furture, it is better to use % of GDP"
   ]
  },
  {
   "cell_type": "code",
   "execution_count": 8,
   "metadata": {},
   "outputs": [],
   "source": [
    "deflator=pd.read_csv(\"concordance/WDI GDP Deflator 20241119.csv\", skiprows=3)\n",
    "deflator=deflator[deflator[\"Country Name\"]==\"United States\"][[*[\"Country Name\"], *[str(y) for y in range(1995,2023)]]].copy(True)"
   ]
  },
  {
   "cell_type": "markdown",
   "metadata": {},
   "source": [
    "# WITS\n",
    "### Country concordance\n",
    "- Table formats are similar to https://wits.worldbank.org/wits/wits/witshelp/Content/Data_Retrieval/P/AQ/C9e.AQ_Tariffs-Result.htm\n",
    "    - Reporter is importer, Partner is exporter\n",
    "    - EU and World Tariff can be used to fill holes\n"
   ]
  },
  {
   "cell_type": "code",
   "execution_count": 15,
   "metadata": {},
   "outputs": [],
   "source": [
    "c_wits = set()\n",
    "for year in range(1995,2023):\n",
    "    dt = pd.read_csv(f\"data/WITS_Trade&Tariff_EffectiveApplied_20250117/split/{year}.csv\", encoding=\"latin-1\", \n",
    "                usecols = ['Product', \"Product Name\", 'DutyType','Reporter Name','Partner Name'])\n",
    "    c_wits = c_wits | set(dt[\"Partner Name\"]) | set(dt[\"Reporter Name\"])\n",
    "del dt"
   ]
  },
  {
   "cell_type": "code",
   "execution_count": 29,
   "metadata": {},
   "outputs": [],
   "source": [
    "ifs_country = pd.read_excel(\"concordance/ccode_Comtrade_BACI_WITS_20241113.xlsx\")\n",
    "ifs_country = ifs_country[[\"WITS\",\"Country\",\"EU1995\",'EU2004', 'EU2007', 'EU2013', 'EU2020']].dropna(subset=[\"WITS\"]) \n",
    "# creating different lists is due to the changes of EU membership\n",
    "EU1995 =list(ifs_country[ifs_country[\"EU1995\"]==1].Country)\n",
    "EU2004 =list(ifs_country[ifs_country[\"EU2004\"]==1].Country)\n",
    "EU2007 =list(ifs_country[ifs_country[\"EU2007\"]==1].Country)\n",
    "EU2013 =list(ifs_country[ifs_country[\"EU2013\"]==1].Country)\n",
    "EU2020 =list(ifs_country[ifs_country[\"EU2020\"]==1].Country)\n",
    "eu_cdict = {1995: EU1995, 2004: EU2004, 2007: EU2007, 2013: EU2013, 2020: EU2020}\n",
    "wits_ifs = dict(zip(ifs_country.WITS, ifs_country.Country))\n",
    "# for c in c_wits:\n",
    "#     if c not in ifs_country.WITS.unique():\n",
    "#         print(c.__repr__())"
   ]
  },
  {
   "cell_type": "markdown",
   "metadata": {},
   "source": [
    "### Product Code\n",
    "- Code sequence, 1988/92 H0, 1996 H1, 2002 H2, 2007 H3, 2012 H4, 2017 H5, 2022 H6...\n",
    "- HSCombined was used in the WITS\n",
    "    - WITS TRAINS has a tool under their \"SUPPORT MATERIALS\" to query for HS code conversion\n",
    "    - its H92TOGTAP conversion is based on GTAP10\n",
    "- Errors in the raw files\n",
    "    - In WITS' mapping files, their HScombinehs92 is missing some products, e.g. 30249 from H5 is in the actual data file, marked as both HS & H5, but not in the HStoH0 mapping\n",
    "    - Across different mapping files, there could be duplicates, e.g., 10130 from H4 is 10120 in H0, while 10130 from h5 is 10111 in H0\n",
    "    - In WITS' raw data, their Native Nomen could be wrong, e.g., 271000 was reported between EU & Zambia as H5, but it should be H1 \n",
    "    - <font color='red'> Hence, without merging on the column \"Native Nomen\", we might end up with multiple H0 on same reporting, we will take the minimal"
   ]
  },
  {
   "cell_type": "code",
   "execution_count": 28,
   "metadata": {},
   "outputs": [],
   "source": [
    "hs_list = []\n",
    "for f_hs in os.listdir(\"concordance\"):\n",
    "    if f_hs.endswith(\"hs92.csv\"):\n",
    "        dt = pd.read_csv(f\"concordance/{f_hs}\",encoding=\"latin-1\")\n",
    "        dt.drop(columns=[\"HS 1988/92 Product Description\"], inplace=True)\n",
    "        dt[\"Native Nomen\"] = f_hs.replace(\"hs92.csv\", \"\")\n",
    "        hs_list.append(dt)\n",
    "hs_list = pd.concat(hs_list)\n",
    "hs_list.columns=[\"Product\", \"Product Description\", \"H0\", \"Native Nomen\"]\n",
    "hs_list = hs_list.sort_values(by=[\"Product\", \"Native Nomen\"]).reset_index(drop=True)\n",
    "hs_list[\"Native Nomen\"] = hs_list[\"Native Nomen\"].map({\n",
    "    'hs96':\"H1\",'hs02': \"H2\", 'hs07':\"H3\", 'hs12':\"H4\", 'hs17':'H5', 'hs22':'H6', \"hscombine\":\"HS\"\n",
    "})\n",
    "### check for duplicates\n",
    "# hs_list_check = hs_list.groupby([\"Product\"])[\"H0\"].nunique().reset_index()\n",
    "# hs_list_check[hs_list_check.H0 != 1]\n",
    "# hs_list[hs_list.Product.isin([10130, 10190])]"
   ]
  },
  {
   "cell_type": "markdown",
   "metadata": {},
   "source": [
    "### Duty type\n",
    "- **AHS for effectively applied tariffs**, https://wits.worldbank.org/wits/wits/witshelp/content/data_retrieval/p/intro/c2.types_of_tariffs.htm\n",
    "    - BND for bound tariffs, MFN for MFN applied tariffs, PRF for preferential tariffs\n",
    "    - WITS uses the concept of effectively applied tariff which is defined as the lowest available tariff. If a preferential tariff exists, it will be used as the effectively applied tariff. Otherwise, the MFN applied tariff will be used.\n",
    "- Table formats are similar to https://wits.worldbank.org/wits/wits/witshelp/Content/Data_Retrieval/P/AQ/C9e.AQ_Tariffs-Result.htm\n",
    "    - Simple average: The 6-digit tariff is itself an average of included tariff line level lines.\n",
    "- Tariff can be NULL for some country pairs\n",
    "    - Potential solution is to custom union to fill in values (e.g., EU for EU members)"
   ]
  },
  {
   "cell_type": "code",
   "execution_count": 40,
   "metadata": {},
   "outputs": [
    {
     "data": {
      "text/plain": [
       "dict_keys([1995, 2004, 2007, 2013, 2020])"
      ]
     },
     "execution_count": 40,
     "metadata": {},
     "output_type": "execute_result"
    }
   ],
   "source": [
    "def tariff_save(y_start = 1995, y_end=2004, eu_clist_dict = eu_cdict):\n",
    "    eu_clist = eu_cdict[y_start]\n",
    "    start = time.time()\n",
    "    for year in range(y_start,y_end+1):\n",
    "        wits = pd.read_csv(f\"data/WITS_Trade&Tariff_EffectiveApplied_20250117/split/{year}.csv\", encoding=\"latin-1\", \n",
    "                        usecols = ['Product', \"Product Name\", 'Reporter Name','Partner Name',  'Simple Average'])\n",
    "        wits[\"Importer\"]=wits[\"Reporter Name\"].map(wits_ifs)\n",
    "        wits[\"Exporter\"]=wits[\"Partner Name\"].map(wits_ifs)\n",
    "        wits=wits.dropna(subset=[\"Importer\",\"Exporter\"],how=\"any\").drop(columns=['Reporter Name','Partner Name'])\n",
    "        #\n",
    "        wits = pd.merge(left=wits, right = hs_list, on =[\"Product\"], how=\"left\")\n",
    "        assert wits[wits[\"H0\"].isna()].empty\n",
    "        wits = wits.groupby([\"Importer\",\"Exporter\",\"H0\"],as_index=False)[\"Simple Average\"].agg(\"min\")\n",
    "        wits.sort_values(by=[\"Importer\",\"Exporter\",\"H0\"],inplace=True)\n",
    "        wits.reset_index(drop=True,inplace=True)\n",
    "        # separate EU into individual entries to fillin NULLs\n",
    "        wits_eu=[]\n",
    "        for c in eu_clist:\n",
    "            wits_eu_im = wits[wits[\"Importer\"].isin([\"European Union\"])].copy()\n",
    "            wits_eu_im[\"Importer\"] = c\n",
    "            wits_eu_ex = wits[wits[\"Exporter\"].isin([\"European Union\"])].copy()\n",
    "            wits_eu_ex[\"Exporter\"] = c\n",
    "            wits_eu.append(wits_eu_im)\n",
    "            wits_eu.append(wits_eu_ex)\n",
    "        del wits_eu_im, wits_eu_ex\n",
    "        wits_eu=pd.concat(wits_eu)\n",
    "        # WITS without EU\n",
    "        wits = wits[ ~(wits[\"Importer\"].isin([\"European Union\"]) |  wits[\"Exporter\"].isin([\"European Union\"]))]\n",
    "        # subset of WITS without EU as a whole but has individual EU members\n",
    "        wits_1 = wits[(wits[\"Importer\"].isin(eu_clist))   | (wits[\"Exporter\"].isin(eu_clist))]\n",
    "        # subset of WITS without EU as a whole OR individual EU members\n",
    "        wits_2 = wits[~((wits[\"Importer\"].isin(eu_clist))   | (wits[\"Exporter\"].isin(eu_clist)))]\n",
    "        del wits\n",
    "        # Avg_x is the tariff from EU as a whole, Avg_y is the tariff from individual EU members\n",
    "        wits_eu=pd.merge(left=wits_eu,right=wits_1,on=[\"Importer\",\"Exporter\",\"H0\"],how=\"outer\")\n",
    "        del wits_1\n",
    "        wits_eu['Simple Average_y'] = wits_eu['Simple Average_y'].fillna(wits_eu['Simple Average_x'])\n",
    "        wits_eu.rename(columns={'Simple Average_y':\"Simple Average\"},inplace=True)\n",
    "        wits_eu.drop(columns=['Simple Average_x'],inplace=True)\n",
    "        wits = pd.concat([wits_eu, wits_2],sort=False)\n",
    "        wits.sort_values(by=[\"Importer\",\"Exporter\",\"H0\"],inplace=True)\n",
    "        wits.reset_index(drop=True,inplace=True)\n",
    "        wits.columns=[\"Importer\",\"Exporter\",\"Commodity\",\"TariffPct\"]\n",
    "        wits.to_csv(f\"output/tariff_ifscountry/{year}.csv\", index=False, encoding=\"latin-1\")\n",
    "    del wits\n",
    "    end = time.time()\n",
    "    print((end-start)/60)\n",
    "eu_cdict.keys()"
   ]
  },
  {
   "cell_type": "code",
   "execution_count": 41,
   "metadata": {},
   "outputs": [
    {
     "name": "stdout",
     "output_type": "stream",
     "text": [
      "5.698436407248179\n",
      "5.285443576176961\n",
      "7.853725600242615\n",
      "12.853086706002554\n"
     ]
    }
   ],
   "source": [
    "tariff_save(1995,2003)\n",
    "tariff_save(2004,2006)\n",
    "tariff_save(2007,2012)\n",
    "tariff_save(2013,2022)"
   ]
  },
  {
   "cell_type": "markdown",
   "metadata": {},
   "source": [
    "# Trade, Rev, and Weighted Tariff\n",
    "- Missing Tariff \n",
    "    - use avg by importer & commodity\n",
    "    - use avg by commodity\n",
    "    - fill with 0s\n",
    "- Tariff & Weighted Tariff are in %\n",
    "- Trade needs to be converted to 2011 USD/2017USD, so does Rev\n",
    "- Trade needs to be in different scale, so does Rev (*1000)"
   ]
  },
  {
   "cell_type": "code",
   "execution_count": 3,
   "metadata": {},
   "outputs": [],
   "source": [
    "deflator=pd.read_csv(\"concordance/WDI GDP Deflator 20241119.csv\", skiprows=3)\n",
    "deflator=deflator[deflator[\"Country Name\"]==\"United States\"][[*[\"Country Name\"], *[str(y) for y in range(1995,2023)]]].copy(True)"
   ]
  },
  {
   "cell_type": "code",
   "execution_count": 4,
   "metadata": {},
   "outputs": [
    {
     "name": "stdout",
     "output_type": "stream",
     "text": [
      "10.388817965984344\n"
     ]
    }
   ],
   "source": [
    "start = time.time()\n",
    "for year in range(1995,2023):\n",
    "    # read in merge trade & tariff\n",
    "    trade = pd.read_csv(f\"output/trade_ifscountry/{year}.csv\", encoding = \"latin-1\")\n",
    "    # convert to $2017 & multiply by 1000\n",
    "    trade[\"Trade\"] = 1000*trade[\"Trade\"]*deflator[\"2017\"].values[0]/deflator[str(year)].values[0]\n",
    "    tariff = pd.read_csv(f\"output/tariff_ifscountry/{year}.csv\", encoding = \"latin-1\")\n",
    "    trade = pd.merge(left=trade, right=tariff, on = [\"Exporter\", \"Importer\", \"Commodity\"], how = \"left\")\n",
    "    # fill in missing tariff by order\n",
    "    tariff_by_importer = trade.groupby([\"Importer\", \"Commodity\"], as_index=False)[\"TariffPct\"].agg(\"mean\")\n",
    "    tariff_by_importer.rename(columns={\"TariffPct\":\"TariffPct_AvgIm\"},inplace=True)\n",
    "    tariff_by_commodity = trade.groupby([\"Commodity\"], as_index=False)[\"TariffPct\"].agg(\"mean\")\n",
    "    tariff_by_commodity.rename(columns={\"TariffPct\":\"TariffPct_AvgProd\"},inplace=True)\n",
    "    trade = pd.merge(left=trade, right=tariff_by_importer, on=[\"Importer\", \"Commodity\"], how = \"left\")\n",
    "    trade = pd.merge(left=trade, right=tariff_by_commodity, on=[\"Commodity\"], how = \"left\")\n",
    "    del tariff_by_importer, tariff_by_commodity\n",
    "    trade[\"TariffPct\"] = trade[\"TariffPct\"].fillna(trade[\"TariffPct_AvgIm\"]) \n",
    "    trade[\"TariffPct\"] = trade[\"TariffPct\"].fillna(trade[\"TariffPct_AvgProd\"]) \n",
    "    trade[\"TariffPct\"] = trade[\"TariffPct\"].fillna(0)\n",
    "    trade.drop(columns=[\"TariffPct_AvgIm\", \"TariffPct_AvgProd\"], inplace=True)\n",
    "    # Rev\n",
    "    trade[\"Rev\"]=trade[\"Trade\"]*trade[\"TariffPct\"]/100\n",
    "    # Wt Tariff\n",
    "    wt_all = trade.groupby([\"Exporter\",\"Importer\"],as_index=False)[[\"Trade\",\"Rev\"]].agg(\"sum\")\n",
    "    wt_all[\"IFsSector\"] = \"AllGoods\"\n",
    "    wt_sector = trade.groupby([\"Exporter\",\"Importer\",\"IFsSector\"],as_index=False)[[\"Trade\",\"Rev\"]].agg(\"sum\")\n",
    "    wt_all=pd.concat([wt_all,wt_sector],sort=False)\n",
    "    del trade, wt_sector \n",
    "    wt_all[\"WtTariff\"]=(wt_all[\"Rev\"]/wt_all[\"Trade\"])*100\n",
    "    wt_all.to_csv(f\"output/trade_wt_rev_2017usd_ifscountry/{year}.csv\", index=False, encoding = \"latin-1\")\n",
    "del wt_all\n",
    "end = time.time()\n",
    "print((end-start)/60)"
   ]
  }
 ],
 "metadata": {
  "kernelspec": {
   "display_name": "Python 3",
   "language": "python",
   "name": "python3"
  },
  "language_info": {
   "codemirror_mode": {
    "name": "ipython",
    "version": 3
   },
   "file_extension": ".py",
   "mimetype": "text/x-python",
   "name": "python",
   "nbconvert_exporter": "python",
   "pygments_lexer": "ipython3",
   "version": "3.11.5"
  }
 },
 "nbformat": 4,
 "nbformat_minor": 4
}
